{
 "cells": [
  {
   "cell_type": "code",
   "execution_count": 1,
   "metadata": {},
   "outputs": [],
   "source": [
    "import pandas as pd"
   ]
  },
  {
   "cell_type": "code",
   "execution_count": 2,
   "metadata": {},
   "outputs": [],
   "source": [
    "def ensemble(files, weights):\n",
    "    df = pd.read_csv(files[0], header=None, names=['date', 'y'])\n",
    "    df[\"y\"] = df[\"y\"] * weights[0]\n",
    "    for i in range(1, len(files)):\n",
    "        df[\"y\"] += pd.read_csv(files[i], header=None, names=['date', 'y'])[\"y\"] * weights[i]\n",
    "    df[\"y\"] /= sum(weights)\n",
    "    return df"
   ]
  },
  {
   "cell_type": "code",
   "execution_count": 21,
   "metadata": {},
   "outputs": [
    {
     "name": "stdout",
     "output_type": "stream",
     "text": [
      "[41.554694080575395, 20.05198356427136, 11.841904231252116, 56.32368546150502, 38.833803785449284]\n"
     ]
    }
   ],
   "source": [
    "# scores = [12.4064670, 14.9870378, 18.4445878, 11.7754520, 12.5750761]\n",
    "# alpha = 0.1\n",
    "# weights = [1/(score - 10) for score in scores]\n",
    "# print([weight * 100 for weight in weights])\n",
    "\n",
    "# df = ensemble([\"submit_br.csv\", \"submit_gbr.csv\", \"submit_lasso.csv\", \"submit_rf.csv\", \"submit_ridge.csv\"], weights)\n",
    "# df.head()\n",
    "# df.to_csv(\"submit_ensemble.csv\", index=False, header=False)"
   ]
  },
  {
   "cell_type": "code",
   "execution_count": 4,
   "metadata": {},
   "outputs": [],
   "source": [
    "submits = [\"submit_r_rf_9999.csv\", \"submit_p_rf_80.csv\", \"無加工/submit_xgboost_1872.csv\", \"submit_r_rf_7.csv\"]\n",
    "weights = [1] * len(submits)\n",
    "\n",
    "df = ensemble(submits, weights)\n",
    "df.head()\n",
    "df.to_csv(\"submit_r_ensemble.csv\", index=False, header=False)"
   ]
  },
  {
   "cell_type": "code",
   "execution_count": null,
   "metadata": {},
   "outputs": [],
   "source": []
  }
 ],
 "metadata": {
  "kernelspec": {
   "display_name": "Python 3.7.7 ('tensorflow_gpu')",
   "language": "python",
   "name": "python3"
  },
  "language_info": {
   "codemirror_mode": {
    "name": "ipython",
    "version": 3
   },
   "file_extension": ".py",
   "mimetype": "text/x-python",
   "name": "python",
   "nbconvert_exporter": "python",
   "pygments_lexer": "ipython3",
   "version": "3.7.7"
  },
  "orig_nbformat": 4,
  "vscode": {
   "interpreter": {
    "hash": "17d6107d55558f78256dcdeb57a2d2e6ee89f1f09e7dd06d024703b25d275b4a"
   }
  }
 },
 "nbformat": 4,
 "nbformat_minor": 2
}
